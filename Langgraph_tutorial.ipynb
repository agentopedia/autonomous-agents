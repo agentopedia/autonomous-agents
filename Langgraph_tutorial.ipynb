{
  "nbformat": 4,
  "nbformat_minor": 0,
  "metadata": {
    "colab": {
      "provenance": []
    },
    "kernelspec": {
      "name": "python3",
      "display_name": "Python 3"
    },
    "language_info": {
      "name": "python"
    }
  },
  "cells": [
    {
      "cell_type": "code",
      "execution_count": 1,
      "metadata": {
        "id": "3A6-T400s8mD"
      },
      "outputs": [],
      "source": [
        "%%capture --no-stderr\n",
        "%pip install -U langgraph langsmith\n",
        "\n",
        "# Used for this tutorial; not a requirement for LangGraph\n",
        "%pip install -U langchain_openai"
      ]
    },
    {
      "cell_type": "code",
      "source": [
        "import os\n",
        "os.environ['OPENAI_API_KEY'] = 'your-api-key'"
      ],
      "metadata": {
        "id": "TGFd0-o15Mus"
      },
      "execution_count": 2,
      "outputs": []
    },
    {
      "cell_type": "markdown",
      "source": [
        "## Build a simple chatbot (without tools and memory) using LangGraph"
      ],
      "metadata": {
        "id": "jS_9VKAv8lQr"
      }
    },
    {
      "cell_type": "code",
      "source": [
        "from typing import Annotated\n",
        "\n",
        "from langchain_openai import ChatOpenAI\n",
        "from typing_extensions import TypedDict\n",
        "\n",
        "from langgraph.graph import StateGraph\n",
        "from langgraph.graph.message import add_messages\n",
        "\n",
        "\n",
        "class State(TypedDict): #State of the graph\n",
        "    messages: Annotated[list, add_messages]\n",
        "\n",
        "\n",
        "graph_builder = StateGraph(State)\n",
        "\n",
        "\n",
        "llm = ChatOpenAI(model=\"gpt-3.5-turbo-0125\")\n",
        "\n",
        "\n",
        "def chatbot(state: State):  #Node\n",
        "    return {\"messages\": [llm.invoke(state[\"messages\"])]}\n",
        "\n",
        "\n",
        "# The first argument is the unique node name\n",
        "# The second argument is the function or object that will be called whenever\n",
        "# the node is used.\n",
        "graph_builder.add_node(\"chatbot\", chatbot) #Edges\n",
        "graph_builder.set_entry_point(\"chatbot\")\n",
        "graph_builder.set_finish_point(\"chatbot\")\n",
        "graph = graph_builder.compile()"
      ],
      "metadata": {
        "id": "2pw8dG8o4xh3"
      },
      "execution_count": 4,
      "outputs": []
    },
    {
      "cell_type": "code",
      "source": [
        "from IPython.display import Image, display\n",
        "\n",
        "try:\n",
        "    display(Image(graph.get_graph().draw_mermaid_png()))\n",
        "except Exception:\n",
        "    # This requires some extra dependencies and is optional\n",
        "    pass"
      ],
      "metadata": {
        "colab": {
          "base_uri": "https://localhost:8080/",
          "height": 251
        },
        "id": "pwN4vK1U6GWp",
        "outputId": "89d1121f-bc96-4158-dddf-f13e8d6b6391"
      },
      "execution_count": 4,
      "outputs": [
        {
          "output_type": "display_data",
          "data": {
            "image/jpeg": "[encoded data removed]",
            "text/plain": [
              "<IPython.core.display.Image object>"
            ]
          },
          "metadata": {}
        }
      ]
    },
    {
      "cell_type": "code",
      "source": [
        "while True:\n",
        "    user_input = input(\"User: \")\n",
        "    if user_input.lower() in [\"quit\", \"exit\", \"q\"]:\n",
        "        print(\"Goodbye!\")\n",
        "        break\n",
        "    for event in graph.stream({\"messages\": (\"user\", user_input)}):\n",
        "        for value in event.values():\n",
        "            print(\"Assistant:\", value[\"messages\"][-1].content)"
      ],
      "metadata": {
        "colab": {
          "base_uri": "https://localhost:8080/"
        },
        "id": "Pc-FhFoz6Ln4",
        "outputId": "853b7530-8829-4bf3-c8ed-8fa24ad06c0d"
      },
      "execution_count": 5,
      "outputs": [
        {
          "output_type": "stream",
          "name": "stdout",
          "text": [
            "User: What is Langsmith?\n",
            "Assistant: Langsmith is a surname of English origin. It is derived from the Old English words \"lang,\" meaning long, and \"smith,\" meaning a worker in metal. This surname likely originally referred to someone who was a blacksmith or metalworker known for their skill in working with metals.\n",
            "User: No, I meant the langsmith framework from Langchain\n",
            "Assistant: Apologies for the confusion. The Langsmith framework from Langchain is a technology that aims to provide a decentralized platform for multilingual content creation and translation. It leverages blockchain technology to facilitate secure and transparent transactions between content creators and translators. The framework also includes tools for managing translation projects, ensuring quality control, and rewarding contributors. Overall, Langsmith aims to revolutionize the language industry by providing a user-friendly and efficient platform for multilingual communication.\n",
            "User: This is so wrong\n",
            "Assistant: I'm sorry to hear that you feel that way. Can you please provide more information so that I can better understand your concerns?\n",
            "User: Tell me about India's independence\n",
            "Assistant: India's independence from British colonial rule was a long and hard-fought struggle that culminated in the country gaining independence on August 15, 1947. The independence movement was led by a number of key figures, including Mahatma Gandhi, Jawaharlal Nehru, and Subhas Chandra Bose, among others.\n",
            "\n",
            "The struggle for independence took various forms, including non-violent protests, civil disobedience, and armed resistance. Mahatma Gandhi's philosophy of non-violent resistance, or satyagraha, played a crucial role in mobilizing the masses and gaining international support for the Indian independence movement.\n",
            "\n",
            "The British colonial government faced increasing pressure from Indian nationalists, as well as from the global community, to grant India independence. The end of World War II also weakened the British Empire and hastened the process of decolonization.\n",
            "\n",
            "Finally, in 1947, the British Parliament passed the Indian Independence Act, which granted independence to India and partitioned the country into two separate nations, India and Pakistan. The partition led to widespread violence and bloodshed as millions of people were displaced and communal tensions erupted.\n",
            "\n",
            "Despite the challenges and tragedies that accompanied independence, India's freedom marked the beginning of a new era for the country. Jawaharlal Nehru became the first Prime Minister of independent India, and the country embarked on a path of nation-building and development.\n",
            "\n",
            "Today, India celebrates its independence on August 15th every year as a national holiday known as Independence Day. The day is marked by flag-hoisting ceremonies, cultural events, and patriotic celebrations across the country. India's independence is a symbol of the country's resilience, unity, and commitment to democracy and freedom.\n",
            "User: End\n",
            "Assistant: Thank you for using my services. If you have any more questions or need assistance in the future, feel free to reach out. Have a great day!\n",
            "User: End\n",
            "Assistant: Thank you for using the AI assistant. If you have any more questions or need assistance in the future, feel free to ask. Have a great day!\n",
            "User: quit\n",
            "Goodbye!\n"
          ]
        }
      ]
    },
    {
      "cell_type": "markdown",
      "source": [
        "# Build an agent with tools"
      ],
      "metadata": {
        "id": "mcT2mrLf83Rh"
      }
    },
    {
      "cell_type": "code",
      "source": [
        "%pip install -U tavily-python\n",
        "%pip install -U langchain_community"
      ],
      "metadata": {
        "colab": {
          "base_uri": "https://localhost:8080/"
        },
        "id": "J79l7Uxh6PJn",
        "outputId": "13ed8a13-b73d-465d-d98e-dec3b88dfab7"
      },
      "execution_count": 5,
      "outputs": [
        {
          "output_type": "stream",
          "name": "stdout",
          "text": [
            "Collecting tavily-python\n",
            "  Downloading tavily_python-0.4.0-py3-none-any.whl.metadata (11 kB)\n",
            "Requirement already satisfied: requests in /usr/local/lib/python3.10/dist-packages (from tavily-python) (2.32.3)\n",
            "Requirement already satisfied: tiktoken>=0.5.1 in /usr/local/lib/python3.10/dist-packages (from tavily-python) (0.7.0)\n",
            "Requirement already satisfied: httpx in /usr/local/lib/python3.10/dist-packages (from tavily-python) (0.27.2)\n",
            "Requirement already satisfied: regex>=2022.1.18 in /usr/local/lib/python3.10/dist-packages (from tiktoken>=0.5.1->tavily-python) (2024.5.15)\n",
            "Requirement already satisfied: charset-normalizer<4,>=2 in /usr/local/lib/python3.10/dist-packages (from requests->tavily-python) (3.3.2)\n",
            "Requirement already satisfied: idna<4,>=2.5 in /usr/local/lib/python3.10/dist-packages (from requests->tavily-python) (3.8)\n",
            "Requirement already satisfied: urllib3<3,>=1.21.1 in /usr/local/lib/python3.10/dist-packages (from requests->tavily-python) (2.0.7)\n",
            "Requirement already satisfied: certifi>=2017.4.17 in /usr/local/lib/python3.10/dist-packages (from requests->tavily-python) (2024.8.30)\n",
            "Requirement already satisfied: anyio in /usr/local/lib/python3.10/dist-packages (from httpx->tavily-python) (3.7.1)\n",
            "Requirement already satisfied: httpcore==1.* in /usr/local/lib/python3.10/dist-packages (from httpx->tavily-python) (1.0.5)\n",
            "Requirement already satisfied: sniffio in /usr/local/lib/python3.10/dist-packages (from httpx->tavily-python) (1.3.1)\n",
            "Requirement already satisfied: h11<0.15,>=0.13 in /usr/local/lib/python3.10/dist-packages (from httpcore==1.*->httpx->tavily-python) (0.14.0)\n",
            "Requirement already satisfied: exceptiongroup in /usr/local/lib/python3.10/dist-packages (from anyio->httpx->tavily-python) (1.2.2)\n",
            "Downloading tavily_python-0.4.0-py3-none-any.whl (13 kB)\n",
            "Installing collected packages: tavily-python\n",
            "Successfully installed tavily-python-0.4.0\n",
            "Collecting langchain_community\n",
            "  Downloading langchain_community-0.3.0-py3-none-any.whl.metadata (2.8 kB)\n",
            "Requirement already satisfied: PyYAML>=5.3 in /usr/local/lib/python3.10/dist-packages (from langchain_community) (6.0.2)\n",
            "Requirement already satisfied: SQLAlchemy<3,>=1.4 in /usr/local/lib/python3.10/dist-packages (from langchain_community) (2.0.34)\n",
            "Requirement already satisfied: aiohttp<4.0.0,>=3.8.3 in /usr/local/lib/python3.10/dist-packages (from langchain_community) (3.10.5)\n",
            "Collecting dataclasses-json<0.7,>=0.5.7 (from langchain_community)\n",
            "  Downloading dataclasses_json-0.6.7-py3-none-any.whl.metadata (25 kB)\n",
            "Collecting langchain<0.4.0,>=0.3.0 (from langchain_community)\n",
            "  Downloading langchain-0.3.0-py3-none-any.whl.metadata (7.1 kB)\n",
            "Requirement already satisfied: langchain-core<0.4.0,>=0.3.0 in /usr/local/lib/python3.10/dist-packages (from langchain_community) (0.3.0)\n",
            "Requirement already satisfied: langsmith<0.2.0,>=0.1.112 in /usr/local/lib/python3.10/dist-packages (from langchain_community) (0.1.120)\n",
            "Requirement already satisfied: numpy<2,>=1 in /usr/local/lib/python3.10/dist-packages (from langchain_community) (1.26.4)\n",
            "Collecting pydantic-settings<3.0.0,>=2.4.0 (from langchain_community)\n",
            "  Downloading pydantic_settings-2.5.2-py3-none-any.whl.metadata (3.5 kB)\n",
            "Requirement already satisfied: requests<3,>=2 in /usr/local/lib/python3.10/dist-packages (from langchain_community) (2.32.3)\n",
            "Requirement already satisfied: tenacity!=8.4.0,<9.0.0,>=8.1.0 in /usr/local/lib/python3.10/dist-packages (from langchain_community) (8.5.0)\n",
            "Requirement already satisfied: aiohappyeyeballs>=2.3.0 in /usr/local/lib/python3.10/dist-packages (from aiohttp<4.0.0,>=3.8.3->langchain_community) (2.4.0)\n",
            "Requirement already satisfied: aiosignal>=1.1.2 in /usr/local/lib/python3.10/dist-packages (from aiohttp<4.0.0,>=3.8.3->langchain_community) (1.3.1)\n",
            "Requirement already satisfied: attrs>=17.3.0 in /usr/local/lib/python3.10/dist-packages (from aiohttp<4.0.0,>=3.8.3->langchain_community) (24.2.0)\n",
            "Requirement already satisfied: frozenlist>=1.1.1 in /usr/local/lib/python3.10/dist-packages (from aiohttp<4.0.0,>=3.8.3->langchain_community) (1.4.1)\n",
            "Requirement already satisfied: multidict<7.0,>=4.5 in /usr/local/lib/python3.10/dist-packages (from aiohttp<4.0.0,>=3.8.3->langchain_community) (6.1.0)\n",
            "Requirement already satisfied: yarl<2.0,>=1.0 in /usr/local/lib/python3.10/dist-packages (from aiohttp<4.0.0,>=3.8.3->langchain_community) (1.11.1)\n",
            "Requirement already satisfied: async-timeout<5.0,>=4.0 in /usr/local/lib/python3.10/dist-packages (from aiohttp<4.0.0,>=3.8.3->langchain_community) (4.0.3)\n",
            "Collecting marshmallow<4.0.0,>=3.18.0 (from dataclasses-json<0.7,>=0.5.7->langchain_community)\n",
            "  Downloading marshmallow-3.22.0-py3-none-any.whl.metadata (7.2 kB)\n",
            "Collecting typing-inspect<1,>=0.4.0 (from dataclasses-json<0.7,>=0.5.7->langchain_community)\n",
            "  Downloading typing_inspect-0.9.0-py3-none-any.whl.metadata (1.5 kB)\n",
            "Collecting langchain-text-splitters<0.4.0,>=0.3.0 (from langchain<0.4.0,>=0.3.0->langchain_community)\n",
            "  Downloading langchain_text_splitters-0.3.0-py3-none-any.whl.metadata (2.3 kB)\n",
            "Requirement already satisfied: pydantic<3.0.0,>=2.7.4 in /usr/local/lib/python3.10/dist-packages (from langchain<0.4.0,>=0.3.0->langchain_community) (2.9.1)\n",
            "Requirement already satisfied: jsonpatch<2.0,>=1.33 in /usr/local/lib/python3.10/dist-packages (from langchain-core<0.4.0,>=0.3.0->langchain_community) (1.33)\n",
            "Requirement already satisfied: packaging<25,>=23.2 in /usr/local/lib/python3.10/dist-packages (from langchain-core<0.4.0,>=0.3.0->langchain_community) (24.1)\n",
            "Requirement already satisfied: typing-extensions>=4.7 in /usr/local/lib/python3.10/dist-packages (from langchain-core<0.4.0,>=0.3.0->langchain_community) (4.12.2)\n",
            "Requirement already satisfied: httpx<1,>=0.23.0 in /usr/local/lib/python3.10/dist-packages (from langsmith<0.2.0,>=0.1.112->langchain_community) (0.27.2)\n",
            "Requirement already satisfied: orjson<4.0.0,>=3.9.14 in /usr/local/lib/python3.10/dist-packages (from langsmith<0.2.0,>=0.1.112->langchain_community) (3.10.7)\n",
            "Collecting python-dotenv>=0.21.0 (from pydantic-settings<3.0.0,>=2.4.0->langchain_community)\n",
            "  Downloading python_dotenv-1.0.1-py3-none-any.whl.metadata (23 kB)\n",
            "Requirement already satisfied: charset-normalizer<4,>=2 in /usr/local/lib/python3.10/dist-packages (from requests<3,>=2->langchain_community) (3.3.2)\n",
            "Requirement already satisfied: idna<4,>=2.5 in /usr/local/lib/python3.10/dist-packages (from requests<3,>=2->langchain_community) (3.8)\n",
            "Requirement already satisfied: urllib3<3,>=1.21.1 in /usr/local/lib/python3.10/dist-packages (from requests<3,>=2->langchain_community) (2.0.7)\n",
            "Requirement already satisfied: certifi>=2017.4.17 in /usr/local/lib/python3.10/dist-packages (from requests<3,>=2->langchain_community) (2024.8.30)\n",
            "Requirement already satisfied: greenlet!=0.4.17 in /usr/local/lib/python3.10/dist-packages (from SQLAlchemy<3,>=1.4->langchain_community) (3.1.0)\n",
            "Requirement already satisfied: anyio in /usr/local/lib/python3.10/dist-packages (from httpx<1,>=0.23.0->langsmith<0.2.0,>=0.1.112->langchain_community) (3.7.1)\n",
            "Requirement already satisfied: httpcore==1.* in /usr/local/lib/python3.10/dist-packages (from httpx<1,>=0.23.0->langsmith<0.2.0,>=0.1.112->langchain_community) (1.0.5)\n",
            "Requirement already satisfied: sniffio in /usr/local/lib/python3.10/dist-packages (from httpx<1,>=0.23.0->langsmith<0.2.0,>=0.1.112->langchain_community) (1.3.1)\n",
            "Requirement already satisfied: h11<0.15,>=0.13 in /usr/local/lib/python3.10/dist-packages (from httpcore==1.*->httpx<1,>=0.23.0->langsmith<0.2.0,>=0.1.112->langchain_community) (0.14.0)\n",
            "Requirement already satisfied: jsonpointer>=1.9 in /usr/local/lib/python3.10/dist-packages (from jsonpatch<2.0,>=1.33->langchain-core<0.4.0,>=0.3.0->langchain_community) (3.0.0)\n",
            "Requirement already satisfied: annotated-types>=0.6.0 in /usr/local/lib/python3.10/dist-packages (from pydantic<3.0.0,>=2.7.4->langchain<0.4.0,>=0.3.0->langchain_community) (0.7.0)\n",
            "Requirement already satisfied: pydantic-core==2.23.3 in /usr/local/lib/python3.10/dist-packages (from pydantic<3.0.0,>=2.7.4->langchain<0.4.0,>=0.3.0->langchain_community) (2.23.3)\n",
            "Collecting mypy-extensions>=0.3.0 (from typing-inspect<1,>=0.4.0->dataclasses-json<0.7,>=0.5.7->langchain_community)\n",
            "  Downloading mypy_extensions-1.0.0-py3-none-any.whl.metadata (1.1 kB)\n",
            "Requirement already satisfied: exceptiongroup in /usr/local/lib/python3.10/dist-packages (from anyio->httpx<1,>=0.23.0->langsmith<0.2.0,>=0.1.112->langchain_community) (1.2.2)\n",
            "Downloading langchain_community-0.3.0-py3-none-any.whl (2.3 MB)\n",
            "\u001b[2K   \u001b[90m━━━━━━━━━━━━━━━━━━━━━━━━━━━━━━━━━━━━━━━━\u001b[0m \u001b[32m2.3/2.3 MB\u001b[0m \u001b[31m41.1 MB/s\u001b[0m eta \u001b[36m0:00:00\u001b[0m\n",
            "\u001b[?25hDownloading dataclasses_json-0.6.7-py3-none-any.whl (28 kB)\n",
            "Downloading langchain-0.3.0-py3-none-any.whl (1.0 MB)\n",
            "\u001b[2K   \u001b[90m━━━━━━━━━━━━━━━━━━━━━━━━━━━━━━━━━━━━━━━━\u001b[0m \u001b[32m1.0/1.0 MB\u001b[0m \u001b[31m49.5 MB/s\u001b[0m eta \u001b[36m0:00:00\u001b[0m\n",
            "\u001b[?25hDownloading pydantic_settings-2.5.2-py3-none-any.whl (26 kB)\n",
            "Downloading langchain_text_splitters-0.3.0-py3-none-any.whl (25 kB)\n",
            "Downloading marshmallow-3.22.0-py3-none-any.whl (49 kB)\n",
            "\u001b[2K   \u001b[90m━━━━━━━━━━━━━━━━━━━━━━━━━━━━━━━━━━━━━━━━\u001b[0m \u001b[32m49.3/49.3 kB\u001b[0m \u001b[31m3.4 MB/s\u001b[0m eta \u001b[36m0:00:00\u001b[0m\n",
            "\u001b[?25hDownloading python_dotenv-1.0.1-py3-none-any.whl (19 kB)\n",
            "Downloading typing_inspect-0.9.0-py3-none-any.whl (8.8 kB)\n",
            "Downloading mypy_extensions-1.0.0-py3-none-any.whl (4.7 kB)\n",
            "Installing collected packages: python-dotenv, mypy-extensions, marshmallow, typing-inspect, pydantic-settings, dataclasses-json, langchain-text-splitters, langchain, langchain_community\n",
            "Successfully installed dataclasses-json-0.6.7 langchain-0.3.0 langchain-text-splitters-0.3.0 langchain_community-0.3.0 marshmallow-3.22.0 mypy-extensions-1.0.0 pydantic-settings-2.5.2 python-dotenv-1.0.1 typing-inspect-0.9.0\n"
          ]
        }
      ]
    },
    {
      "cell_type": "code",
      "source": [
        "os.environ[\"TAVILY_API_KEY\"] = \"your-api-key\"  # Visit https://tavily.com/#api to get a key"
      ],
      "metadata": {
        "id": "xG8GcAu37u8M"
      },
      "execution_count": 6,
      "outputs": []
    },
    {
      "cell_type": "code",
      "source": [
        "from langchain_community.tools.tavily_search import TavilySearchResults\n",
        "\n",
        "tool = TavilySearchResults(max_results=2)\n",
        "tools = [tool]\n",
        "tool.invoke(\"Show me the latest research paper around chronic back pain?\")"
      ],
      "metadata": {
        "colab": {
          "base_uri": "https://localhost:8080/"
        },
        "id": "VWeuUwf374ih",
        "outputId": "f5f022e6-7e84-4742-d9c3-1d5a06466a51"
      },
      "execution_count": 7,
      "outputs": [
        {
          "output_type": "execute_result",
          "data": {
            "text/plain": [
              "[{'url': 'https://www.ncbi.nlm.nih.gov/pmc/articles/PMC9529058/',\n",
              "  'content': \"Evidence-based interventions to treat chronic low back pain: treatment selection for a personalized medicine approach\\nMatthew C. Mauck\\nDepartments ofaAnesthesiology\\nAileen F. Aylward\\nbEmergency Medicine, University of North Carolina at Chapel Hill, Chapel Hill, NC, USA\\nChloe E. Barton\\nDepartments ofaAnesthesiology\\nBrandon Birckhead\\ncDepartment of Psychiatry and Behavioral Sciences, Johns Hopkins School of Medicine, Baltimore, MD, USA\\nTimothy Carey\\ndDepartment of Medicine, University of North Carolina at Chapel Hill, Chapel Hill NC, USA\\nDiane M. Dalton\\neDepartment of Physical Therapy, Boston University, College of Health and Rehabilitation Sciences, Sargent, Boston MA, USA\\nAaron J. Fields\\nfDepartment of Orthopaedic Surgery, University of California San Francisco, San Francisco, CA, USA\\nJulie Fritz\\ngDepartment of Physical Therapy and Athletic Training, University of Utah, Salt Lake City, UT, USA\\nAfton L. Hassett\\nhDepartment of Anesthesiology, University of Michigan, Ann Arbor, MI, USA\\nAnna Hoffmeyer\\niUniversity of North Carolina at Chapel Hill, Collaborative Studies Coordinating Center, Chapel Hill, NC, USA\\nSara B. Jones\\njDepartment of Epidemiology, University of North Carolina at Chapel Hill, Chapel Hill, NC, USA\\nSamuel A. McLean\\nDepartments ofaAnesthesiology\\nWolf E. Mehling\\nkDepartment of Family and Community Medicine, University of California San Francisco, San Francisco, CA, USA\\nConor W. O'Neill\\nlSection of Physical Medicine and Rehabilitation, Department of Orthopaedic Surgery, University of California, San Francisco, San Francisco, CA, USA\\nMichael J. Schneider\\nmDepartment of Physical Therapy and Clinical and Translational Science Institute, University of Pittsburgh, Pittsburgh, PA, USA\\nDavid A. Williams\\nhDepartment of Anesthesiology, University of Michigan, Ann Arbor, MI, USA\\nPatricia Zheng\\nlSection of Physical Medicine and Rehabilitation, Department of Orthopaedic Surgery, University of California, San Francisco, San Francisco, CA, USA\\nAjay D. Wasan\\nnDepartments of Anesthesiology and Perioperative Medicine and Psychiatry, University of Pittsburgh Medical Center, Pittsburgh, PA, USA\\nLiterature on current treatments for chronic low back pain (cLBP) were reviewed and 4 interventions were recommended for inclusion in a multisite cLBP clinical trial.\\n Across the board, there was moderate strength of evidence and moderate effect sizes for most types of exercise, although no specific exercise modality outperformed others.6,11,18,29,37,51,52,55,56,58,61 The effect size of exercise improved when combined with CBT,29 manual therapy,61 or decision-making strategies to tailor treatment to individual patients (eg, implementing a decision tree to help providers choose the best exercise for patients).6,55 Mind–body interventions, such as Qigong or yoga involving movement, were not reviewed by the working group; these exercises, like other exercise modalities, have a moderate effect, but present scaling challenges for widespread clinical implementation.63,58 After weighing the array of movement therapies to address cLBP, the working group recommended a protocolized classification-based approach that is led by physical therapists or chiropractors and incorporated decision making based on patient presentation, rather than a specific type of exercise. Delivered by licensed mental health providers, ACT was specifically developed to improve function and pain via teaching behavioral approaches that lead to acceptance of the pain vs gaining control over the pain.36,62 Although VR therapies showed promise, only one pilot randomized control trial of VR in low back pain had been completed at the time of intervention selection, in which pain intensity and pain interference improved among those receiving skills-based VR.12 One additional randomized trial had been completed since that time in which clinically meaningful reductions in average pain intensity and pain interference compared with a placebo VR group were found.27 While a self-administered, app-based VR program may reduce barriers to traditional in-person behavioral therapies, there was insufficient evidence of its efficacy at the time of intervention selection. The benefits of acupuncture may persist up to 6 months.58 Spinal manipulation's evidence was low to moderate and literature found a small effect on function (SMD −0.34, 95% CI −0.75 to −0.02) and minimal-to-low effect on pain (−0.64, 95% CI −0.93 to −0.35).58 Literature suggested that patients with acute pain responded more to spinal manipulation than those with chronic low back pain.58 Massage, acupuncture, and manipulation each require repeated sessions and may be delivered with a wide variety of techniques, which may be barriers to widespread implementation and fidelity across sites in the collaborative trial.\\n The classification-based approach also typically integrated manual therapy and cognitive-behavioral principles, which also may result in larger treatment effects.29,61\\nBased on the strength of the evidence for a larger effect size when manual therapy is combined with exercise, the working group recommendation included an evidence-based exercise and manual therapy intervention for the CCS over other movement-based treatments examined because of the strength of evidence and large treatment effect.\\n3.2.\"},\n",
              " {'url': 'https://bmcmusculoskeletdisord.biomedcentral.com/articles/10.1186/s12891-022-05963-w',\n",
              "  'content': 'Background Multidisciplinary biopsychosocial rehabilitation (MBR) in patients with chronic low back pain (CLBP) is superior to less intensive treatments for at least one year, but the long-term course of the disease is largely unknown. The primary aim of this study was to describe the long-term course of an MBR in relation to pain, disability, and quality of life from the beginning of an MBR ...'}]"
            ]
          },
          "metadata": {},
          "execution_count": 7
        }
      ]
    },
    {
      "cell_type": "code",
      "source": [
        "from langgraph.prebuilt import ToolNode, tools_condition\n",
        "\n",
        "\n",
        "class State(TypedDict):\n",
        "    messages: Annotated[list, add_messages]\n",
        "\n",
        "\n",
        "graph_builder = StateGraph(State)\n",
        "\n",
        "\n",
        "tool = TavilySearchResults(max_results=2)\n",
        "tools = [tool]\n",
        "\n",
        "llm = ChatOpenAI(model=\"gpt-3.5-turbo-0125\")\n",
        "llm_with_tools = llm.bind_tools(tools) # Modification: tell the LLM which tools it can call\n",
        "\n",
        "\n",
        "def chatbot(state: State):\n",
        "    return {\"messages\": [llm_with_tools.invoke(state[\"messages\"])]}\n",
        "\n",
        "\n",
        "graph_builder.add_node(\"chatbot\", chatbot)\n",
        "\n",
        "tool_node = ToolNode(tools=[tool])\n",
        "graph_builder.add_node(\"tools\", tool_node)\n",
        "\n",
        "graph_builder.add_conditional_edges(\n",
        "    \"chatbot\",\n",
        "    tools_condition,\n",
        ")\n",
        "# Any time a tool is called, we return to the chatbot to decide the next step\n",
        "graph_builder.add_edge(\"tools\", \"chatbot\")\n",
        "graph_builder.set_entry_point(\"chatbot\")\n",
        "graph = graph_builder.compile()"
      ],
      "metadata": {
        "id": "_OgDv_zF8xRF"
      },
      "execution_count": 19,
      "outputs": []
    },
    {
      "cell_type": "code",
      "source": [
        "from IPython.display import Image, display\n",
        "\n",
        "try:\n",
        "    display(Image(graph.get_graph().draw_mermaid_png()))\n",
        "except Exception:\n",
        "    # This requires some extra dependencies and is optional\n",
        "    pass"
      ],
      "metadata": {
        "colab": {
          "base_uri": "https://localhost:8080/",
          "height": 266
        },
        "id": "ZqfDXnIh9HM3",
        "outputId": "cdfac4e0-a48d-4b06-f56f-a044840c5b55"
      },
      "execution_count": 20,
      "outputs": [
        {
          "output_type": "display_data",
          "data": {
            "image/jpeg": "[encoded data removed]",
            "text/plain": [
              "<IPython.core.display.Image object>"
            ]
          },
          "metadata": {}
        }
      ]
    },
    {
      "cell_type": "code",
      "source": [
        "from langchain_core.messages import BaseMessage\n",
        "\n",
        "while True:\n",
        "    user_input = input(\"User: \")\n",
        "    if user_input.lower() in [\"quit\", \"exit\", \"q\"]:\n",
        "        print(\"Goodbye!\")\n",
        "        break\n",
        "    for event in graph.stream({\"messages\": [(\"user\", user_input)]}):\n",
        "        for value in event.values():\n",
        "            if isinstance(value[\"messages\"][-1], BaseMessage):\n",
        "                print(\"Assistant:\", value[\"messages\"][-1].content)"
      ],
      "metadata": {
        "colab": {
          "base_uri": "https://localhost:8080/"
        },
        "id": "Zal0iVpO9MT_",
        "outputId": "ef5c2098-9128-4f54-ab18-5b20b0b6eb1e"
      },
      "execution_count": 21,
      "outputs": [
        {
          "output_type": "stream",
          "name": "stdout",
          "text": [
            "User: What is the latest news article published around chronic back pain?\n",
            "Assistant: \n",
            "Assistant: [{\"url\": \"https://www.sciencedaily.com/releases/2024/04/240430180330.htm\", \"content\": \"Sep. 29, 2021 — A study of chronic back pain patients finds that more than two-thirds of those who underwent a novel, 4-week psychological treatment were pain-free or nearly pain-free afterward ...\"}, {\"url\": \"https://medicalxpress.com/news/2024-09-placebos-alleviate-chronic-pain-patients.html\", \"content\": \"Honestly prescribed placebo treatments for chronic back pain (CPB) led to significant improvements in pain alleviation with lasting results, according to a new study out today in JAMA Network Open.\"}]\n",
            "Assistant: Here are some of the latest news articles published around chronic back pain:\n",
            "\n",
            "1. [Study Finds Psychological Treatment Helps Chronic Back Pain Patients](https://www.sciencedaily.com/releases/2024/04/240430180330.htm) - Published on Sep. 29, 2021. The study highlights that more than two-thirds of chronic back pain patients who underwent a novel, 4-week psychological treatment were pain-free or nearly pain-free afterward.\n",
            "\n",
            "2. [Placebos Alleviate Chronic Pain in Patients](https://medicalxpress.com/news/2024-09-placebos-alleviate-chronic-pain-patients.html) - Published recently. This study discusses how honestly prescribed placebo treatments for chronic back pain led to significant improvements in pain alleviation with lasting results.\n",
            "\n",
            "You can read more about these articles by following the provided links.\n",
            "User: quit\n",
            "Goodbye!\n"
          ]
        }
      ]
    },
    {
      "cell_type": "markdown",
      "source": [
        "# Build an agent with tools and memory"
      ],
      "metadata": {
        "id": "6ILzXJVg91cc"
      }
    },
    {
      "cell_type": "code",
      "source": [
        "from langgraph.checkpoint.memory import MemorySaver\n",
        "\n",
        "memory = MemorySaver() #Stores the conversation in this session"
      ],
      "metadata": {
        "id": "Lna2GYZn9RSE"
      },
      "execution_count": 12,
      "outputs": []
    },
    {
      "cell_type": "code",
      "source": [
        "graph = graph_builder.compile(checkpointer=memory)"
      ],
      "metadata": {
        "id": "6hMIvnba9pkf"
      },
      "execution_count": 13,
      "outputs": []
    },
    {
      "cell_type": "code",
      "source": [
        "from IPython.display import Image, display\n",
        "\n",
        "try:\n",
        "    display(Image(graph.get_graph().draw_mermaid_png()))\n",
        "except Exception:\n",
        "    # This requires some extra dependencies and is optional\n",
        "    pass"
      ],
      "metadata": {
        "colab": {
          "base_uri": "https://localhost:8080/",
          "height": 266
        },
        "id": "KGi6KhZH99dQ",
        "outputId": "54e20640-a104-4d9a-8a3e-3fb7de2ae6be"
      },
      "execution_count": 14,
      "outputs": [
        {
          "output_type": "display_data",
          "data": {
            "image/jpeg": "[encoded data removed]",
            "text/plain": [
              "<IPython.core.display.Image object>"
            ]
          },
          "metadata": {}
        }
      ]
    },
    {
      "cell_type": "code",
      "source": [
        "config = {\"configurable\": {\"thread_id\": \"1\"}} #Defines the session id between the user and the assistant"
      ],
      "metadata": {
        "id": "X0eQ1KY59_ij"
      },
      "execution_count": 15,
      "outputs": []
    },
    {
      "cell_type": "code",
      "source": [
        "user_input = \"Hi there! My name is Hernandez. I have been suffering from chronic back pain.\"\n",
        "\n",
        "# The config is the **second positional argument** to stream() or invoke()!\n",
        "events = graph.stream(\n",
        "    {\"messages\": [(\"user\", user_input)]}, config, stream_mode=\"values\"\n",
        ")\n",
        "for event in events:\n",
        "    event[\"messages\"][-1].pretty_print()"
      ],
      "metadata": {
        "colab": {
          "base_uri": "https://localhost:8080/"
        },
        "id": "njF5k7iD-EPx",
        "outputId": "8d58f824-38fd-4a75-d0a1-0dd35cd85463"
      },
      "execution_count": 16,
      "outputs": [
        {
          "output_type": "stream",
          "name": "stdout",
          "text": [
            "================================\u001b[1m Human Message \u001b[0m=================================\n",
            "\n",
            "Hi there! My name is Hernandez. I have been suffering from chronic back pain.\n",
            "==================================\u001b[1m Ai Message \u001b[0m==================================\n",
            "\n",
            "Hello Hernandez! I'm sorry to hear that you've been experiencing chronic back pain. Would you like me to look up some information or resources that could help you manage or alleviate your back pain?\n"
          ]
        }
      ]
    },
    {
      "cell_type": "code",
      "source": [
        "user_input = \"What are the latest state of the art techniques that can help me?\"\n",
        "\n",
        "# The config is the **second positional argument** to stream() or invoke()!\n",
        "events = graph.stream(\n",
        "    {\"messages\": [(\"user\", user_input)]}, config, stream_mode=\"values\"\n",
        ")\n",
        "for event in events:\n",
        "    event[\"messages\"][-1].pretty_print()"
      ],
      "metadata": {
        "colab": {
          "base_uri": "https://localhost:8080/"
        },
        "id": "7P0gRSJh-HEI",
        "outputId": "89a2e30b-74f1-4610-da7f-8cffa40cd3d7"
      },
      "execution_count": 17,
      "outputs": [
        {
          "output_type": "stream",
          "name": "stdout",
          "text": [
            "================================\u001b[1m Human Message \u001b[0m=================================\n",
            "\n",
            "What are the latest state of the art techniques that can help me?\n",
            "==================================\u001b[1m Ai Message \u001b[0m==================================\n",
            "Tool Calls:\n",
            "  tavily_search_results_json (call_2E4hyoIPH7SGGqfBQJFFsonm)\n",
            " Call ID: call_2E4hyoIPH7SGGqfBQJFFsonm\n",
            "  Args:\n",
            "    query: latest state of the art techniques for chronic back pain\n",
            "=================================\u001b[1m Tool Message \u001b[0m=================================\n",
            "Name: tavily_search_results_json\n",
            "\n",
            "[{\"url\": \"https://www.sciencedaily.com/releases/2022/08/220802121722.htm\", \"content\": \"The new treatment challenges traditional treatments for chronic back pain, such as drugs and treatments that focus on the back such as spinal manipulation, injections, surgery and spinal cord ...\"}, {\"url\": \"https://scitechdaily.com/at-last-an-effective-new-treatment-for-chronic-back-pain/\", \"content\": \"“This is the first new treatment of its kind for back pain – which has been the number one cause of the Global Disability Burden for the last 30 years – that has been tested against placebo.”\\nProf. McAuley said the treatment is based on research that showed the nervous system of people suffering from chronic back pain behaves in a different way from people who have a recent injury to the lower back.\\n DOI: 10.1001/jama.2022.9930\\nScience\\nRethinking What Causes Pain: Psychological Treatment Shown To Yield Strong, Lasting Pain Relief\\nHealth\\nFrom Ibuprofen to Fentanyl: How Do Painkillers Actually Kill Pain?\\nScience\\nNew Detailed Look at the Neuroscience of Placebo Effects\\nHealth\\nLong-Lasting Pain Relief Without Opioids: New Local Treatment for Chronic Pain\\nHealth\\nTangled Messages: Tracing the Brain’s Neural Circuits to Chemotherapy’s “Constellation of Side Effects”\\nHealth\\nAching Back? The second is to normalize the way the back and the brain communicate with each other, and thirdly, to gradually retrain the body and the brain back to a normal protection setting and a resumption of usual activities.\\n Ended with bodycast because part of spine was fused with bony tissue then wheelchair and strong pain medications like morphine, demerol, flexeril…I was a professional ballet dancer then a health spa manager and personal trainer…As you can see, I exercised my entire life tgerefore my accident brought me to a physical condition and lifestyle of intense suffering also complete abandonment by everyone…People, family member realized that it wasn’t like a cold that last few day but years so they were busy and took off. I’m disabled because of addicts I survived child trafficking I’m often denied care because of them to they try to push me into the mental health system refusing to aknowledge the the long term effects of being tortured and malnutrition my abusers get way better care from the system and society than I do.\"}]\n",
            "==================================\u001b[1m Ai Message \u001b[0m==================================\n",
            "\n",
            "I found some information on the latest state-of-the-art techniques for chronic back pain:\n",
            "\n",
            "1. A new treatment has been developed that challenges traditional treatments for chronic back pain, such as drugs and treatments that focus on the back, such as spinal manipulation, injections, surgery, and spinal cord interventions. You can read more about it [here](https://www.sciencedaily.com/releases/2022/08/220802121722.htm).\n",
            "\n",
            "2. There is a new treatment that has been tested against a placebo for back pain, which has been a significant cause of global disability burden. This treatment is based on research showing that the nervous system of individuals with chronic back pain behaves differently from those with recent lower back injuries. You can find more details [here](https://scitechdaily.com/at-last-an-effective-new-treatment-for-chronic-back-pain/).\n",
            "\n",
            "These advancements in treatment aim to normalize the communication between the back and the brain, gradually retrain the body and brain back to a normal protection setting, and facilitate a resumption of usual activities.\n"
          ]
        }
      ]
    },
    {
      "cell_type": "code",
      "source": [
        "snapshot = graph.get_state(config)\n",
        "snapshot"
      ],
      "metadata": {
        "colab": {
          "base_uri": "https://localhost:8080/"
        },
        "id": "FC4eXzbD-K6n",
        "outputId": "00579c70-f620-49d4-9a55-da1fad822b57"
      },
      "execution_count": 23,
      "outputs": [
        {
          "output_type": "execute_result",
          "data": {
            "text/plain": [
              "StateSnapshot(values={'messages': [HumanMessage(content='Hi there! My name is Will.', additional_kwargs={}, response_metadata={}, id='72d09684-47fa-4c22-9f24-3f82f322e53c'), AIMessage(content='Hello Will! How can I assist you today?', additional_kwargs={'refusal': None}, response_metadata={'token_usage': {'completion_tokens': 11, 'prompt_tokens': 89, 'total_tokens': 100, 'completion_tokens_details': {'reasoning_tokens': 0}}, 'model_name': 'gpt-3.5-turbo-0125', 'system_fingerprint': None, 'finish_reason': 'stop', 'logprobs': None}, id='run-b5a32a2b-1b3c-4317-9857-a4c0f21d1ea8-0', usage_metadata={'input_tokens': 89, 'output_tokens': 11, 'total_tokens': 100}), HumanMessage(content='Remember my name?', additional_kwargs={}, response_metadata={}, id='f0d31d09-dee0-477e-98c6-1a9bd1dc9ace'), AIMessage(content='Yes, I remember your name is Will. How can I help you today, Will?', additional_kwargs={'refusal': None}, response_metadata={'token_usage': {'completion_tokens': 19, 'prompt_tokens': 111, 'total_tokens': 130, 'completion_tokens_details': {'reasoning_tokens': 0}}, 'model_name': 'gpt-3.5-turbo-0125', 'system_fingerprint': None, 'finish_reason': 'stop', 'logprobs': None}, id='run-e36f5d05-27a6-4225-b919-1141f92939b2-0', usage_metadata={'input_tokens': 111, 'output_tokens': 19, 'total_tokens': 130})]}, next=(), config={'configurable': {'thread_id': '1', 'checkpoint_ns': '', 'checkpoint_id': '1ef731c3-6582-6d24-8004-d09468f18d30'}}, metadata={'source': 'loop', 'writes': {'chatbot': {'messages': [AIMessage(content='Yes, I remember your name is Will. How can I help you today, Will?', additional_kwargs={'refusal': None}, response_metadata={'token_usage': {'completion_tokens': 19, 'prompt_tokens': 111, 'total_tokens': 130, 'completion_tokens_details': {'reasoning_tokens': 0}}, 'model_name': 'gpt-3.5-turbo-0125', 'system_fingerprint': None, 'finish_reason': 'stop', 'logprobs': None}, id='run-e36f5d05-27a6-4225-b919-1141f92939b2-0', usage_metadata={'input_tokens': 111, 'output_tokens': 19, 'total_tokens': 130})]}}, 'step': 4, 'parents': {}}, created_at='2024-09-15T04:37:27.980145+00:00', parent_config={'configurable': {'thread_id': '1', 'checkpoint_ns': '', 'checkpoint_id': '1ef731c3-5fdf-64af-8003-2ae34c87076e'}}, tasks=())"
            ]
          },
          "metadata": {},
          "execution_count": 23
        }
      ]
    },
    {
      "cell_type": "code",
      "source": [],
      "metadata": {
        "id": "fYX3Pc7s-Sgn"
      },
      "execution_count": null,
      "outputs": []
    }
  ]
}