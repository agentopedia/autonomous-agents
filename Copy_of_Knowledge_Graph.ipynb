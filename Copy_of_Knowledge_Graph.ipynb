{
  "nbformat": 4,
  "nbformat_minor": 0,
  "metadata": {
    "colab": {
      "provenance": []
    },
    "kernelspec": {
      "name": "python3",
      "display_name": "Python 3"
    },
    "language_info": {
      "name": "python"
    }
  },
  "cells": [
    {
      "cell_type": "code",
      "execution_count": null,
      "metadata": {
        "id": "diKlCrdy_Oaq"
      },
      "outputs": [],
      "source": [
        "pip install openai"
      ]
    },
    {
      "cell_type": "markdown",
      "source": [
        "Set your Open AI API Key"
      ],
      "metadata": {
        "id": "ibDV-T9IFa80"
      }
    },
    {
      "cell_type": "code",
      "source": [
        "import openai\n",
        "\n",
        "\n",
        "import os\n",
        "os.environ['OPENAI_API_KEY'] = \"<Your API Key>\"\n"
      ],
      "metadata": {
        "id": "B3unYHeu_P0e"
      },
      "execution_count": null,
      "outputs": []
    },
    {
      "cell_type": "markdown",
      "source": [
        "Helper function to generate a response using Open AI"
      ],
      "metadata": {
        "id": "HDGCuNL1Fdb2"
      }
    },
    {
      "cell_type": "code",
      "source": [
        "import os\n",
        "from openai import OpenAI\n",
        "\n",
        "client = OpenAI(\n",
        "    # This is the default and can be omitted\n",
        "    api_key=os.environ.get(\"OPENAI_API_KEY\"),\n",
        ")\n",
        "\n",
        "def generate_response(prompt):\n",
        "     chat_completion = client.chat.completions.create(\n",
        "     messages=[\n",
        "        {\n",
        "            \"role\": \"user\",\n",
        "            \"content\": prompt,\n",
        "        }\n",
        "    ],\n",
        "    model=\"gpt-3.5-turbo\",\n",
        ")\n",
        "     return chat_completion.choices[0].message.content"
      ],
      "metadata": {
        "id": "O3RlN2Dp_Sn1"
      },
      "execution_count": null,
      "outputs": []
    },
    {
      "cell_type": "markdown",
      "source": [
        "## Create the Knowledge Graph for the book"
      ],
      "metadata": {
        "id": "iaqvBwlCFgvB"
      }
    },
    {
      "cell_type": "code",
      "source": [
        "def generate_graph(book):\n",
        "   output = generate_response(f'''You are an expert at creating clean, high-level knowledge graphs from a book. Your task is to analyze the book as a whole,\n",
        "grasp its overall purpose, and identify the most important 5 entities (nodes) and 5 key relationships (edges) between them that best summarize the core message.\n",
        "Prioritize clarity and relevance, avoiding unnecessary or overly granular concepts.\n",
        "\n",
        "For each relationship, provide:\n",
        "\n",
        "Entity 1 (Node 1)\n",
        "Relationship (Edge)\n",
        "Entity 2 (Node 2)\n",
        "Why this relationship is significant in the context of the article\n",
        "Focus on the main theme of the article, ensuring the extracted nodes and relationships form a clear, comprehensible knowledge graph.\n",
        "\n",
        "Example input: 'Marie Curie discovered radium while working at the University of Paris, which revolutionized medical treatment.'\n",
        "\n",
        "Example output:\n",
        "\n",
        "Entity 1: Marie Curie (Person)\n",
        "\n",
        "Relationship: discovered\n",
        "Entity 2: Radium (Concept)\n",
        "Why it’s significant: This discovery was a groundbreaking moment in science.\n",
        "Entity 1: Marie Curie (Person)\n",
        "\n",
        "Relationship: worked at\n",
        "Entity 2: University of Paris (Organization)\n",
        "Why it’s significant: The location of her research is crucial to understanding her discovery.\n",
        "Entity 1: Radium (Concept)\n",
        "\n",
        "Relationship: revolutionized\n",
        "Entity 2: Medical treatment (Concept)\n",
        "Why it’s significant: This relationship highlights the broader impact of her discovery.\n",
        "\n",
        "Generate a knowledge graph that accurately represents the book: {book}  ''')\n",
        "   return output"
      ],
      "metadata": {
        "id": "THcfmsF5EzQI"
      },
      "execution_count": null,
      "outputs": []
    },
    {
      "cell_type": "code",
      "source": [
        "graph_output=generate_graph('Guesstimation 2.0 by Lawrence Weinstein')"
      ],
      "metadata": {
        "id": "fV6Ev7TV_VBQ"
      },
      "execution_count": null,
      "outputs": []
    },
    {
      "cell_type": "code",
      "source": [
        "print (graph_output)"
      ],
      "metadata": {
        "colab": {
          "base_uri": "https://localhost:8080/"
        },
        "id": "vMt1yn8_BUN4",
        "outputId": "f98b0c45-039c-4b75-af17-c312e2a79b84"
      },
      "execution_count": null,
      "outputs": [
        {
          "output_type": "stream",
          "name": "stdout",
          "text": [
            "Entity 1: Guesstimation 2.0 (Book)\n",
            "\n",
            "Relationship: written by\n",
            "Entity 2: Lawrence Weinstein (Author)\n",
            "Why it’s significant: Establishes the creator of the book and their role in sharing the content.\n",
            "\n",
            "Entity 1: Guesstimation 2.0 (Book)\n",
            "\n",
            "Relationship: explores\n",
            "Entity 2: Estimation techniques (Concept)\n",
            "Why it’s significant: Shows the central theme of the book in using estimation methods.\n",
            "\n",
            "Entity 1: Guesstimation 2.0 (Book)\n",
            "\n",
            "Relationship: includes\n",
            "Entity 2: Real-world examples (Concept)\n",
            "Why it’s significant: Illustrates how the book applies estimation techniques in practical scenarios.\n",
            "\n",
            "Entity 1: Guesstimation 2.0 (Book)\n",
            "\n",
            "Relationship: helps improve\n",
            "Entity 2: Quantitative reasoning (Skill)\n",
            "Why it’s significant: Emphasizes the educational aspect of the book in enhancing analytical skills.\n",
            "\n",
            "Entity 1: Guesstimation 2.0 (Book)\n",
            "\n",
            "Relationship: essential for\n",
            "Entity 2: Problem-solving (Skill)\n",
            "Why it’s significant: Demonstrates the practical utility of the estimation methods discussed in the book.\n"
          ]
        }
      ]
    },
    {
      "cell_type": "markdown",
      "source": [
        "## Generate possible questions based on the Knowledge Graph"
      ],
      "metadata": {
        "id": "7PPJgF2iFnqP"
      }
    },
    {
      "cell_type": "code",
      "source": [
        "def generate_questions(graph_output):\n",
        "  output = generate_response(f'''Based on the knowledge graph that can be constructed using the output:{graph_output}, generate the kind of interesting questions and answers''')\n",
        "  return output"
      ],
      "metadata": {
        "id": "hdJ-WlY2FuPA"
      },
      "execution_count": null,
      "outputs": []
    },
    {
      "cell_type": "code",
      "source": [
        "questions = generate_questions(graph_output)"
      ],
      "metadata": {
        "id": "hRRO6vpLBWgx"
      },
      "execution_count": null,
      "outputs": []
    },
    {
      "cell_type": "code",
      "source": [
        "print (questions)"
      ],
      "metadata": {
        "colab": {
          "base_uri": "https://localhost:8080/"
        },
        "id": "akT_dEj3BtnL",
        "outputId": "47f0d184-90fc-4b37-b191-cfe48175e788"
      },
      "execution_count": null,
      "outputs": [
        {
          "output_type": "stream",
          "name": "stdout",
          "text": [
            "such as:\n",
            "- How can estimation techniques help in real-world scenarios?\n",
            "- What are some examples of applying estimation methods in everyday situations?\n",
            "- How does Guesstimation 2.0 contribute to improving quantitative reasoning skills?\n",
            "- In what ways can the book be utilized to enhance problem-solving abilities?\n",
            "- What are some key takeaways from Guesstimation 2.0 that can be applied to decision-making processes?\n"
          ]
        }
      ]
    },
    {
      "cell_type": "markdown",
      "source": [
        "## Answer a user's question based on Knowledge Graph"
      ],
      "metadata": {
        "id": "pDN5fI24GD3V"
      }
    },
    {
      "cell_type": "code",
      "source": [
        "def generate_graph_answer(user_question):\n",
        "  output = generate_response(f'''You are now supposed to answer questions applying the concepts covered in the knowledge graph generated: {graph_output}.\n",
        "\n",
        "\n",
        "If the question is irrelevant, answer - \"I do not have enough context.\" For example, if there is a concept in the knowledge graph that says 'Soccer', and the user question is 'Who is the best soccer player in the world?', you should be able to answer. On the other hand, if the user question is 'Who is the best tennis player in the world',that is an irrelevant question.\n",
        "You are supposed to think critically to check if the user question is connected to the concepts in the knowledge graph or not.\n",
        "\n",
        "Your question is: {user_question}\n",
        "\n",
        "Output:\n",
        "Response\n",
        "Nodes and edges connected to the question\n",
        "Calculate the strength of the user question's relevance to the knowledge graph''')\n",
        "  return output"
      ],
      "metadata": {
        "id": "_RcunNiCGfJf"
      },
      "execution_count": null,
      "outputs": []
    },
    {
      "cell_type": "code",
      "source": [
        "user_question_1 = \"How does Lawrence Weinstein's background and expertise contribute to the information presented in Guesstimation 2.0?\""
      ],
      "metadata": {
        "id": "IFd27cXZB_kW"
      },
      "execution_count": null,
      "outputs": []
    },
    {
      "cell_type": "code",
      "source": [
        "print (generate_graph_answer(user_question_1))"
      ],
      "metadata": {
        "colab": {
          "base_uri": "https://localhost:8080/"
        },
        "id": "pvJrWY8yGnDn",
        "outputId": "175e7708-761a-47b0-e39f-0d653cf6d75c"
      },
      "execution_count": null,
      "outputs": [
        {
          "output_type": "stream",
          "name": "stdout",
          "text": [
            "Response:\n",
            "Lawrence Weinstein's background and expertise as an educator and physicist contribute significantly to the information presented in Guesstimation 2.0. As the author of the book, Weinstein's knowledge in quantitative reasoning and problem-solving skills enhances the content by providing a solid foundation for understanding and implementing estimation techniques. His expertise ensures that the concepts are explained clearly and effectively, making the book a valuable resource for readers looking to improve their analytical abilities.\n",
            "\n",
            "Nodes and edges connected to the question:\n",
            "- Lawrence Weinstein (Author)\n",
            "- Guesstimation 2.0 (Book)\n",
            "- Quantitative reasoning (Skill)\n",
            "- Problem-solving (Skill)\n",
            "\n",
            "Calculate the strength of the user question's relevance to the knowledge graph:\n",
            "The user question is highly relevant to the knowledge graph as it directly connects Lawrence Weinstein's background and expertise to the content presented in Guesstimation 2.0. The question explores how Weinstein's skills and knowledge impact the information shared in the book, which is a central theme within the knowledge graph. Therefore, the relevance strength would be high.\n"
          ]
        }
      ]
    },
    {
      "cell_type": "code",
      "source": [
        "user_question_2 = \"Estimate the market for flying cars using the concepts outlined in the book\""
      ],
      "metadata": {
        "id": "pMNn78YwCaC9"
      },
      "execution_count": null,
      "outputs": []
    },
    {
      "cell_type": "code",
      "source": [
        "print (generate_graph_answer(user_question_2))"
      ],
      "metadata": {
        "colab": {
          "base_uri": "https://localhost:8080/"
        },
        "id": "L3Yk4TEtG02P",
        "outputId": "09fe713f-17b2-4abe-d143-43719ed70e18"
      },
      "execution_count": null,
      "outputs": [
        {
          "output_type": "stream",
          "name": "stdout",
          "text": [
            "Response: \n",
            "Based on the concepts outlined in \"Guesstimation 2.0,\" you can estimate the market for flying cars by using estimation techniques and real-world examples to analyze factors such as cost, demand, technological feasibility, and potential competition. This process would help improve quantitative reasoning and problem-solving skills in assessing the viability and potential growth of the flying car market.\n",
            "\n",
            "Nodes and edges connected to the question: \n",
            "- Guesstimation 2.0 (Book) --> explores --> Estimation techniques (Concept)\n",
            "- Guesstimation 2.0 (Book) --> includes --> Real-world examples (Concept)\n",
            "- Guesstimation 2.0 (Book) --> helps improve --> Quantitative reasoning (Skill)\n",
            "- Guesstimation 2.0 (Book) --> essential for --> Problem-solving (Skill)\n",
            "\n",
            "Calculate the strength of the user question's relevance to the knowledge graph:\n",
            "The user question about estimating the market for flying cars is highly relevant to the concepts discussed in \"Guesstimation 2.0\" as it directly involves the application of estimation techniques, real-world examples, quantitative reasoning, and problem-solving skills. The strong connection between the question and the knowledge graph indicates that the book's content can be effectively used to tackle such a scenario.\n"
          ]
        }
      ]
    },
    {
      "cell_type": "code",
      "source": [
        "user_question_3 = \"Who wrote the book A tale of two cities?\""
      ],
      "metadata": {
        "id": "sqBtigBND0Hd"
      },
      "execution_count": null,
      "outputs": []
    },
    {
      "cell_type": "code",
      "source": [
        "print (generate_graph_answer(user_question_3))"
      ],
      "metadata": {
        "colab": {
          "base_uri": "https://localhost:8080/"
        },
        "id": "lLv7Un2CCCUy",
        "outputId": "d96fb495-fd5c-4c72-b2e0-17900b7f8a4c"
      },
      "execution_count": null,
      "outputs": [
        {
          "output_type": "stream",
          "name": "stdout",
          "text": [
            "Response: \n",
            "I do not have enough context.\n",
            "\n",
            "Nodes and edges connected to the question: \n",
            "There are no nodes or edges in the knowledge graph related to the book \"A Tale of Two Cities\" or its author.\n",
            "\n",
            "Calculate the strength of the user question's relevance to the knowledge graph: \n",
            "The user question is not relevant to the knowledge graph as there are no connections to \"A Tale of Two Cities\" or its author within the graph.\n"
          ]
        }
      ]
    },
    {
      "cell_type": "code",
      "source": [],
      "metadata": {
        "id": "ixZJcy7ECDti"
      },
      "execution_count": null,
      "outputs": []
    }
  ]
}